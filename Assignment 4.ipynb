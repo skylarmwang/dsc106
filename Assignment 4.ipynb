{
 "cells": [
  {
   "cell_type": "code",
   "execution_count": 1,
   "metadata": {},
   "outputs": [],
   "source": [
    "import altair as alt\n",
    "import pandas as pd"
   ]
  },
  {
   "cell_type": "code",
   "execution_count": 2,
   "metadata": {},
   "outputs": [],
   "source": [
    "d = pd.read_csv('flunet2010_11countries_106.csv')\n",
    "country = pd.read_csv('countries.csv')"
   ]
  },
  {
   "cell_type": "code",
   "execution_count": 3,
   "metadata": {},
   "outputs": [
    {
     "data": {
      "text/html": [
       "\n",
       "<div id=\"altair-viz-d4ac980a073542388bfb839acbbb5477\"></div>\n",
       "<script type=\"text/javascript\">\n",
       "  (function(spec, embedOpt){\n",
       "    let outputDiv = document.currentScript.previousElementSibling;\n",
       "    if (outputDiv.id !== \"altair-viz-d4ac980a073542388bfb839acbbb5477\") {\n",
       "      outputDiv = document.getElementById(\"altair-viz-d4ac980a073542388bfb839acbbb5477\");\n",
       "    }\n",
       "    const paths = {\n",
       "      \"vega\": \"https://cdn.jsdelivr.net/npm//vega@5?noext\",\n",
       "      \"vega-lib\": \"https://cdn.jsdelivr.net/npm//vega-lib?noext\",\n",
       "      \"vega-lite\": \"https://cdn.jsdelivr.net/npm//vega-lite@4.8.1?noext\",\n",
       "      \"vega-embed\": \"https://cdn.jsdelivr.net/npm//vega-embed@6?noext\",\n",
       "    };\n",
       "\n",
       "    function loadScript(lib) {\n",
       "      return new Promise(function(resolve, reject) {\n",
       "        var s = document.createElement('script');\n",
       "        s.src = paths[lib];\n",
       "        s.async = true;\n",
       "        s.onload = () => resolve(paths[lib]);\n",
       "        s.onerror = () => reject(`Error loading script: ${paths[lib]}`);\n",
       "        document.getElementsByTagName(\"head\")[0].appendChild(s);\n",
       "      });\n",
       "    }\n",
       "\n",
       "    function showError(err) {\n",
       "      outputDiv.innerHTML = `<div class=\"error\" style=\"color:red;\">${err}</div>`;\n",
       "      throw err;\n",
       "    }\n",
       "\n",
       "    function displayChart(vegaEmbed) {\n",
       "      vegaEmbed(outputDiv, spec, embedOpt)\n",
       "        .catch(err => showError(`Javascript Error: ${err.message}<br>This usually means there's a typo in your chart specification. See the javascript console for the full traceback.`));\n",
       "    }\n",
       "\n",
       "    if(typeof define === \"function\" && define.amd) {\n",
       "      requirejs.config({paths});\n",
       "      require([\"vega-embed\"], displayChart, err => showError(`Error loading script: ${err.message}`));\n",
       "    } else if (typeof vegaEmbed === \"function\") {\n",
       "      displayChart(vegaEmbed);\n",
       "    } else {\n",
       "      loadScript(\"vega\")\n",
       "        .then(() => loadScript(\"vega-lite\"))\n",
       "        .then(() => loadScript(\"vega-embed\"))\n",
       "        .catch(showError)\n",
       "        .then(() => displayChart(vegaEmbed));\n",
       "    }\n",
       "  })({\"config\": {\"view\": {\"continuousWidth\": 400, \"continuousHeight\": 300}}, \"data\": {\"name\": \"data-fabb0370209036787fbf217320c713ec\"}, \"mark\": \"line\", \"encoding\": {\"color\": {\"condition\": {\"type\": \"nominal\", \"field\": \"key\", \"legend\": null, \"selection\": \"Select_\"}, \"value\": \"transparent\"}, \"tooltip\": {\"type\": \"quantitative\", \"field\": \"value\"}, \"x\": {\"type\": \"quantitative\", \"field\": \"week\"}, \"y\": {\"type\": \"quantitative\", \"field\": \"value\", \"title\": \"Count\"}}, \"height\": 500, \"selection\": {\"Select_\": {\"type\": \"single\", \"fields\": [\"key\"], \"bind\": {\"input\": \"select\", \"options\": [\"Afghanistan\", \"Argentina\", \"Australia\", \"Canada\", \"China\", \"Colombia\", \"Egypt\", \"Germany\", \"Ireland\", \"South Africa\", \"USA\"]}}}, \"transform\": [{\"fold\": [\"Afghanistan\", \"Argentina\", \"Australia\", \"Canada\", \"China\", \"Colombia\", \"Egypt\", \"Germany\", \"Ireland\", \"South Africa\", \"USA\"]}], \"width\": 800, \"$schema\": \"https://vega.github.io/schema/vega-lite/v4.8.1.json\", \"datasets\": {\"data-fabb0370209036787fbf217320c713ec\": [{\"week\": 1, \"Afghanistan\": 5.0, \"Argentina\": 4, \"Australia\": 2, \"Canada\": 41, \"China\": 2179, \"Colombia\": 36, \"Egypt\": 739, \"Germany\": 26.0, \"Ireland\": 23, \"South Africa\": 0, \"USA\": 366}, {\"week\": 2, \"Afghanistan\": 13.0, \"Argentina\": 21, \"Australia\": 1, \"Canada\": 15, \"China\": 2213, \"Colombia\": 36, \"Egypt\": 396, \"Germany\": 24.0, \"Ireland\": 8, \"South Africa\": 1, \"USA\": 396}, {\"week\": 3, \"Afghanistan\": 4.0, \"Argentina\": 6, \"Australia\": 1, \"Canada\": 8, \"China\": 2228, \"Colombia\": 14, \"Egypt\": 192, \"Germany\": 18.0, \"Ireland\": 4, \"South Africa\": 0, \"USA\": 447}, {\"week\": 4, \"Afghanistan\": 0.0, \"Argentina\": 1, \"Australia\": 0, \"Canada\": 14, \"China\": 2027, \"Colombia\": 11, \"Egypt\": 80, \"Germany\": null, \"Ireland\": 8, \"South Africa\": 0, \"USA\": 402}, {\"week\": 5, \"Afghanistan\": 0.0, \"Argentina\": 4, \"Australia\": 1, \"Canada\": 12, \"China\": 1813, \"Colombia\": 8, \"Egypt\": 56, \"Germany\": null, \"Ireland\": 4, \"South Africa\": 0, \"USA\": 404}, {\"week\": 6, \"Afghanistan\": 0.0, \"Argentina\": 0, \"Australia\": 1, \"Canada\": 6, \"China\": 1353, \"Colombia\": 9, \"Egypt\": 47, \"Germany\": null, \"Ireland\": 0, \"South Africa\": 0, \"USA\": 361}, {\"week\": 7, \"Afghanistan\": 1.0, \"Argentina\": 3, \"Australia\": 0, \"Canada\": 6, \"China\": 799, \"Colombia\": 7, \"Egypt\": 32, \"Germany\": null, \"Ireland\": 0, \"South Africa\": 0, \"USA\": 380}, {\"week\": 8, \"Afghanistan\": 1.0, \"Argentina\": 1, \"Australia\": 4, \"Canada\": 7, \"China\": 1218, \"Colombia\": 5, \"Egypt\": 16, \"Germany\": null, \"Ireland\": 1, \"South Africa\": 1, \"USA\": 424}, {\"week\": 9, \"Afghanistan\": null, \"Argentina\": 0, \"Australia\": 3, \"Canada\": 3, \"China\": 1333, \"Colombia\": 7, \"Egypt\": 8, \"Germany\": 3.0, \"Ireland\": 0, \"South Africa\": 0, \"USA\": 445}, {\"week\": 10, \"Afghanistan\": 1.0, \"Argentina\": 3, \"Australia\": 1, \"Canada\": 7, \"China\": 1614, \"Colombia\": 5, \"Egypt\": 8, \"Germany\": 7.0, \"Ireland\": 0, \"South Africa\": 0, \"USA\": 475}, {\"week\": 11, \"Afghanistan\": 0.0, \"Argentina\": 0, \"Australia\": 1, \"Canada\": 9, \"China\": 1745, \"Colombia\": 11, \"Egypt\": 3, \"Germany\": 2.0, \"Ireland\": 0, \"South Africa\": 0, \"USA\": 351}, {\"week\": 12, \"Afghanistan\": 0.0, \"Argentina\": 9, \"Australia\": 2, \"Canada\": 7, \"China\": 1548, \"Colombia\": 1, \"Egypt\": 5, \"Germany\": 6.0, \"Ireland\": 1, \"South Africa\": 0, \"USA\": 246}, {\"week\": 13, \"Afghanistan\": 0.0, \"Argentina\": 8, \"Australia\": 0, \"Canada\": 6, \"China\": 1388, \"Colombia\": 4, \"Egypt\": 6, \"Germany\": 0.0, \"Ireland\": 0, \"South Africa\": 0, \"USA\": 237}, {\"week\": 14, \"Afghanistan\": 0.0, \"Argentina\": 7, \"Australia\": 0, \"Canada\": 6, \"China\": 843, \"Colombia\": 2, \"Egypt\": 3, \"Germany\": 1.0, \"Ireland\": 0, \"South Africa\": 0, \"USA\": 127}, {\"week\": 15, \"Afghanistan\": 0.0, \"Argentina\": 9, \"Australia\": 4, \"Canada\": 0, \"China\": 635, \"Colombia\": 8, \"Egypt\": 2, \"Germany\": 0.0, \"Ireland\": 0, \"South Africa\": 1, \"USA\": 79}, {\"week\": 16, \"Afghanistan\": 0.0, \"Argentina\": 15, \"Australia\": 2, \"Canada\": 2, \"China\": 716, \"Colombia\": 16, \"Egypt\": 2, \"Germany\": 0.0, \"Ireland\": 1, \"South Africa\": 0, \"USA\": 52}, {\"week\": 17, \"Afghanistan\": 0.0, \"Argentina\": 16, \"Australia\": 6, \"Canada\": 4, \"China\": 602, \"Colombia\": 8, \"Egypt\": 2, \"Germany\": 0.0, \"Ireland\": 0, \"South Africa\": 0, \"USA\": 37}, {\"week\": 18, \"Afghanistan\": 0.0, \"Argentina\": 18, \"Australia\": 1, \"Canada\": 3, \"China\": 529, \"Colombia\": 3, \"Egypt\": 9, \"Germany\": 0.0, \"Ireland\": 0, \"South Africa\": 1, \"USA\": 31}, {\"week\": 19, \"Afghanistan\": 0.0, \"Argentina\": 10, \"Australia\": 3, \"Canada\": 1, \"China\": 434, \"Colombia\": 8, \"Egypt\": 2, \"Germany\": 0.0, \"Ireland\": 0, \"South Africa\": 0, \"USA\": 26}, {\"week\": 20, \"Afghanistan\": 0.0, \"Argentina\": 4, \"Australia\": 4, \"Canada\": 4, \"China\": 368, \"Colombia\": 10, \"Egypt\": 1, \"Germany\": 1.0, \"Ireland\": 1, \"South Africa\": 1, \"USA\": 19}, {\"week\": 21, \"Afghanistan\": 0.0, \"Argentina\": 5, \"Australia\": 4, \"Canada\": 5, \"China\": 314, \"Colombia\": 15, \"Egypt\": 0, \"Germany\": 0.0, \"Ireland\": 0, \"South Africa\": 1, \"USA\": 8}, {\"week\": 22, \"Afghanistan\": 0.0, \"Argentina\": 34, \"Australia\": 3, \"Canada\": 0, \"China\": 225, \"Colombia\": 42, \"Egypt\": 9, \"Germany\": 0.0, \"Ireland\": 0, \"South Africa\": 2, \"USA\": 8}, {\"week\": 23, \"Afghanistan\": 0.0, \"Argentina\": 49, \"Australia\": 1, \"Canada\": 1, \"China\": 238, \"Colombia\": 40, \"Egypt\": 8, \"Germany\": 1.0, \"Ireland\": 0, \"South Africa\": 10, \"USA\": 8}, {\"week\": 24, \"Afghanistan\": 0.0, \"Argentina\": 50, \"Australia\": 5, \"Canada\": 1, \"China\": 118, \"Colombia\": 30, \"Egypt\": 8, \"Germany\": 0.0, \"Ireland\": 0, \"South Africa\": 16, \"USA\": 11}, {\"week\": 25, \"Afghanistan\": 1.0, \"Argentina\": 40, \"Australia\": 12, \"Canada\": 0, \"China\": 185, \"Colombia\": 40, \"Egypt\": 7, \"Germany\": 0.0, \"Ireland\": 0, \"South Africa\": 36, \"USA\": 11}, {\"week\": 26, \"Afghanistan\": 0.0, \"Argentina\": 43, \"Australia\": 18, \"Canada\": 8, \"China\": 202, \"Colombia\": 36, \"Egypt\": 6, \"Germany\": 0.0, \"Ireland\": 0, \"South Africa\": 84, \"USA\": 7}, {\"week\": 27, \"Afghanistan\": 0.0, \"Argentina\": 40, \"Australia\": 14, \"Canada\": 2, \"China\": 262, \"Colombia\": 31, \"Egypt\": 6, \"Germany\": 0.0, \"Ireland\": 0, \"South Africa\": 85, \"USA\": 4}, {\"week\": 28, \"Afghanistan\": 0.0, \"Argentina\": 64, \"Australia\": 15, \"Canada\": 6, \"China\": 334, \"Colombia\": 33, \"Egypt\": 4, \"Germany\": 0.0, \"Ireland\": 0, \"South Africa\": 85, \"USA\": 10}, {\"week\": 29, \"Afghanistan\": 0.0, \"Argentina\": 76, \"Australia\": 15, \"Canada\": 0, \"China\": 432, \"Colombia\": 33, \"Egypt\": 14, \"Germany\": 0.0, \"Ireland\": 0, \"South Africa\": 61, \"USA\": 12}, {\"week\": 30, \"Afghanistan\": 0.0, \"Argentina\": 75, \"Australia\": 31, \"Canada\": 3, \"China\": 413, \"Colombia\": 27, \"Egypt\": 7, \"Germany\": 0.0, \"Ireland\": 0, \"South Africa\": 121, \"USA\": 24}, {\"week\": 31, \"Afghanistan\": 0.0, \"Argentina\": 43, \"Australia\": 39, \"Canada\": 0, \"China\": 615, \"Colombia\": 29, \"Egypt\": 5, \"Germany\": 0.0, \"Ireland\": 0, \"South Africa\": 124, \"USA\": 19}, {\"week\": 32, \"Afghanistan\": 0.0, \"Argentina\": 84, \"Australia\": 44, \"Canada\": 2, \"China\": 776, \"Colombia\": 15, \"Egypt\": 2, \"Germany\": 0.0, \"Ireland\": 0, \"South Africa\": 99, \"USA\": 32}, {\"week\": 33, \"Afghanistan\": 0.0, \"Argentina\": 71, \"Australia\": 60, \"Canada\": 1, \"China\": 782, \"Colombia\": 9, \"Egypt\": 4, \"Germany\": 0.0, \"Ireland\": 0, \"South Africa\": 122, \"USA\": 21}, {\"week\": 34, \"Afghanistan\": 0.0, \"Argentina\": 79, \"Australia\": 64, \"Canada\": 6, \"China\": 1018, \"Colombia\": 19, \"Egypt\": 1, \"Germany\": 0.0, \"Ireland\": 0, \"South Africa\": 116, \"USA\": 45}, {\"week\": 35, \"Afghanistan\": 0.0, \"Argentina\": 52, \"Australia\": 78, \"Canada\": 2, \"China\": 1211, \"Colombia\": 3, \"Egypt\": 6, \"Germany\": 0.0, \"Ireland\": 0, \"South Africa\": 74, \"USA\": 34}, {\"week\": 36, \"Afghanistan\": 0.0, \"Argentina\": 40, \"Australia\": 77, \"Canada\": 1, \"China\": 1441, \"Colombia\": 15, \"Egypt\": 0, \"Germany\": 0.0, \"Ireland\": 0, \"South Africa\": 78, \"USA\": 46}, {\"week\": 37, \"Afghanistan\": 0.0, \"Argentina\": 32, \"Australia\": 56, \"Canada\": 3, \"China\": 1473, \"Colombia\": 18, \"Egypt\": 0, \"Germany\": 0.0, \"Ireland\": 0, \"South Africa\": 61, \"USA\": 64}, {\"week\": 38, \"Afghanistan\": 0.0, \"Argentina\": 37, \"Australia\": 105, \"Canada\": 8, \"China\": 1197, \"Colombia\": 8, \"Egypt\": 0, \"Germany\": 1.0, \"Ireland\": 0, \"South Africa\": 39, \"USA\": 67}, {\"week\": 39, \"Afghanistan\": 0.0, \"Argentina\": 64, \"Australia\": 92, \"Canada\": 12, \"China\": 1045, \"Colombia\": 13, \"Egypt\": 0, \"Germany\": 1.0, \"Ireland\": 0, \"South Africa\": 24, \"USA\": 62}, {\"week\": 40, \"Afghanistan\": 0.0, \"Argentina\": 108, \"Australia\": 97, \"Canada\": 11, \"China\": 890, \"Colombia\": 7, \"Egypt\": 3, \"Germany\": 0.0, \"Ireland\": 0, \"South Africa\": 20, \"USA\": 77}, {\"week\": 41, \"Afghanistan\": 0.0, \"Argentina\": 279, \"Australia\": 52, \"Canada\": 17, \"China\": 685, \"Colombia\": 2, \"Egypt\": 7, \"Germany\": 2.0, \"Ireland\": 2, \"South Africa\": 8, \"USA\": 128}, {\"week\": 42, \"Afghanistan\": 0.0, \"Argentina\": 280, \"Australia\": 50, \"Canada\": 17, \"China\": 508, \"Colombia\": 3, \"Egypt\": 19, \"Germany\": 1.0, \"Ireland\": 1, \"South Africa\": 14, \"USA\": 141}, {\"week\": 43, \"Afghanistan\": 0.0, \"Argentina\": 89, \"Australia\": 54, \"Canada\": 14, \"China\": 498, \"Colombia\": 1, \"Egypt\": 14, \"Germany\": 2.0, \"Ireland\": 0, \"South Africa\": 6, \"USA\": 168}, {\"week\": 44, \"Afghanistan\": 0.0, \"Argentina\": 59, \"Australia\": 47, \"Canada\": 22, \"China\": 400, \"Colombia\": 9, \"Egypt\": 16, \"Germany\": 0.0, \"Ireland\": 0, \"South Africa\": 3, \"USA\": 247}, {\"week\": 45, \"Afghanistan\": 0.0, \"Argentina\": 25, \"Australia\": 29, \"Canada\": 42, \"China\": 389, \"Colombia\": 5, \"Egypt\": 19, \"Germany\": 1.0, \"Ireland\": 0, \"South Africa\": 11, \"USA\": 352}, {\"week\": 46, \"Afghanistan\": 0.0, \"Argentina\": 32, \"Australia\": 14, \"Canada\": 55, \"China\": 245, \"Colombia\": 15, \"Egypt\": 20, \"Germany\": 1.0, \"Ireland\": 0, \"South Africa\": 9, \"USA\": 491}, {\"week\": 47, \"Afghanistan\": 0.0, \"Argentina\": 30, \"Australia\": 23, \"Canada\": 111, \"China\": 397, \"Colombia\": 13, \"Egypt\": 36, \"Germany\": 3.0, \"Ireland\": 1, \"South Africa\": 8, \"USA\": 588}, {\"week\": 48, \"Afghanistan\": 0.0, \"Argentina\": 39, \"Australia\": 19, \"Canada\": 225, \"China\": 400, \"Colombia\": 4, \"Egypt\": 64, \"Germany\": 1.0, \"Ireland\": 1, \"South Africa\": 3, \"USA\": 609}, {\"week\": 49, \"Afghanistan\": 0.0, \"Argentina\": 20, \"Australia\": 20, \"Canada\": 323, \"China\": 395, \"Colombia\": 17, \"Egypt\": 88, \"Germany\": 2.0, \"Ireland\": 13, \"South Africa\": 3, \"USA\": 843}, {\"week\": 50, \"Afghanistan\": 0.0, \"Argentina\": 20, \"Australia\": 23, \"Canada\": 566, \"China\": 359, \"Colombia\": 14, \"Egypt\": 152, \"Germany\": 23.0, \"Ireland\": 48, \"South Africa\": 0, \"USA\": 1438}, {\"week\": 51, \"Afghanistan\": null, \"Argentina\": 16, \"Australia\": 29, \"Canada\": 987, \"China\": 602, \"Colombia\": 19, \"Egypt\": 372, \"Germany\": 18.0, \"Ireland\": 161, \"South Africa\": 3, \"USA\": 1998}, {\"week\": 52, \"Afghanistan\": null, \"Argentina\": 1, \"Australia\": 25, \"Canada\": 1366, \"China\": 532, \"Colombia\": 12, \"Egypt\": 522, \"Germany\": 44.0, \"Ireland\": 383, \"South Africa\": 2, \"USA\": 2375}]}}, {\"mode\": \"vega-lite\"});\n",
       "</script>"
      ],
      "text/plain": [
       "alt.Chart(...)"
      ]
     },
     "execution_count": 3,
     "metadata": {},
     "output_type": "execute_result"
    }
   ],
   "source": [
    "# problem 1\n",
    "input_dropdown = alt.binding_select(options=d.columns.tolist()[1:])\n",
    "selection = alt.selection_single(fields=['key'], bind=input_dropdown, name='Select_')\n",
    "color = alt.condition(selection,\n",
    "                    alt.Color('key:N', legend=None),\n",
    "                    alt.value('transparent'))\n",
    "alt.Chart(d).transform_fold(\n",
    "    d.columns.tolist()[1:]\n",
    ").mark_line().encode(\n",
    "    x='week:Q',\n",
    "    y=alt.Y('value:Q',title='Count'),\n",
    "    color = color,\n",
    "    tooltip='value:Q'\n",
    ").add_selection(\n",
    "    selection\n",
    ").properties(\n",
    "    width=800,\n",
    "    height=500\n",
    ")"
   ]
  },
  {
   "cell_type": "code",
   "execution_count": 4,
   "metadata": {},
   "outputs": [],
   "source": [
    "# problem 2\n",
    "s=d[d.columns.tolist()[1:]].agg('sum').to_frame()\n",
    "s.index.name = 'country'\n",
    "s.columns = ['case']\n",
    "merged = pd.merge(country, s, how='left',\n",
    "                  left_on='name', right_on='country')"
   ]
  },
  {
   "cell_type": "code",
   "execution_count": 5,
   "metadata": {},
   "outputs": [],
   "source": [
    "from vega_datasets import data\n",
    "\n",
    "countries = alt.topo_feature(data.world_110m.url, 'countries')\n",
    "colored=alt.Chart(countries).mark_geoshape().encode(\n",
    "    color = 'case:Q'\n",
    ").transform_lookup(\n",
    "    lookup='id',\n",
    "    from_=alt.LookupData(merged,key='id',fields=['case'])\n",
    ").project(\n",
    "    \"equirectangular\"\n",
    ").properties(\n",
    "    width=500,\n",
    "    height=300\n",
    ")\n"
   ]
  },
  {
   "cell_type": "code",
   "execution_count": 6,
   "metadata": {},
   "outputs": [],
   "source": [
    "base=alt.Chart(countries).mark_geoshape(\n",
    "    fill='lightgray',\n",
    "    stroke='white',\n",
    ").project(\n",
    "    \"equirectangular\"\n",
    ").properties(\n",
    "    width=500,\n",
    "    height=300\n",
    ")"
   ]
  },
  {
   "cell_type": "code",
   "execution_count": 7,
   "metadata": {},
   "outputs": [
    {
     "data": {
      "text/html": [
       "\n",
       "<div id=\"altair-viz-bfdcb19996ad49b3b62daf388e7f4da2\"></div>\n",
       "<script type=\"text/javascript\">\n",
       "  (function(spec, embedOpt){\n",
       "    let outputDiv = document.currentScript.previousElementSibling;\n",
       "    if (outputDiv.id !== \"altair-viz-bfdcb19996ad49b3b62daf388e7f4da2\") {\n",
       "      outputDiv = document.getElementById(\"altair-viz-bfdcb19996ad49b3b62daf388e7f4da2\");\n",
       "    }\n",
       "    const paths = {\n",
       "      \"vega\": \"https://cdn.jsdelivr.net/npm//vega@5?noext\",\n",
       "      \"vega-lib\": \"https://cdn.jsdelivr.net/npm//vega-lib?noext\",\n",
       "      \"vega-lite\": \"https://cdn.jsdelivr.net/npm//vega-lite@4.8.1?noext\",\n",
       "      \"vega-embed\": \"https://cdn.jsdelivr.net/npm//vega-embed@6?noext\",\n",
       "    };\n",
       "\n",
       "    function loadScript(lib) {\n",
       "      return new Promise(function(resolve, reject) {\n",
       "        var s = document.createElement('script');\n",
       "        s.src = paths[lib];\n",
       "        s.async = true;\n",
       "        s.onload = () => resolve(paths[lib]);\n",
       "        s.onerror = () => reject(`Error loading script: ${paths[lib]}`);\n",
       "        document.getElementsByTagName(\"head\")[0].appendChild(s);\n",
       "      });\n",
       "    }\n",
       "\n",
       "    function showError(err) {\n",
       "      outputDiv.innerHTML = `<div class=\"error\" style=\"color:red;\">${err}</div>`;\n",
       "      throw err;\n",
       "    }\n",
       "\n",
       "    function displayChart(vegaEmbed) {\n",
       "      vegaEmbed(outputDiv, spec, embedOpt)\n",
       "        .catch(err => showError(`Javascript Error: ${err.message}<br>This usually means there's a typo in your chart specification. See the javascript console for the full traceback.`));\n",
       "    }\n",
       "\n",
       "    if(typeof define === \"function\" && define.amd) {\n",
       "      requirejs.config({paths});\n",
       "      require([\"vega-embed\"], displayChart, err => showError(`Error loading script: ${err.message}`));\n",
       "    } else if (typeof vegaEmbed === \"function\") {\n",
       "      displayChart(vegaEmbed);\n",
       "    } else {\n",
       "      loadScript(\"vega\")\n",
       "        .then(() => loadScript(\"vega-lite\"))\n",
       "        .then(() => loadScript(\"vega-embed\"))\n",
       "        .catch(showError)\n",
       "        .then(() => displayChart(vegaEmbed));\n",
       "    }\n",
       "  })({\"config\": {\"view\": {\"continuousWidth\": 400, \"continuousHeight\": 300}}, \"layer\": [{\"mark\": {\"type\": \"geoshape\", \"fill\": \"lightgray\", \"stroke\": \"white\"}, \"height\": 300, \"projection\": {\"type\": \"equirectangular\"}, \"width\": 500}, {\"mark\": \"geoshape\", \"encoding\": {\"color\": {\"type\": \"quantitative\", \"field\": \"case\"}}, \"height\": 300, \"projection\": {\"type\": \"equirectangular\"}, \"transform\": [{\"lookup\": \"id\", \"from\": {\"data\": {\"name\": \"data-8d373ee07cb2bca4f5bcc3eabc2b6945\"}, \"key\": \"id\", \"fields\": [\"case\"]}}], \"width\": 500}], \"data\": {\"url\": \"https://cdn.jsdelivr.net/npm/vega-datasets@v1.29.0/data/world-110m.json\", \"format\": {\"feature\": \"countries\", \"type\": \"topojson\"}}, \"$schema\": \"https://vega.github.io/schema/vega-lite/v4.8.1.json\", \"datasets\": {\"data-8d373ee07cb2bca4f5bcc3eabc2b6945\": [{\"id\": 4, \"name\": \"Afghanistan\", \"alpha2\": \"af\", \"alpha3\": \"afg\", \"case\": 26.0}, {\"id\": 8, \"name\": \"Albania\", \"alpha2\": \"al\", \"alpha3\": \"alb\", \"case\": null}, {\"id\": 12, \"name\": \"Algeria\", \"alpha2\": \"dz\", \"alpha3\": \"dza\", \"case\": null}, {\"id\": 20, \"name\": \"Andorra\", \"alpha2\": \"ad\", \"alpha3\": \"and\", \"case\": null}, {\"id\": 24, \"name\": \"Angola\", \"alpha2\": \"ao\", \"alpha3\": \"ago\", \"case\": null}, {\"id\": 28, \"name\": \"Antigua and Barbuda\", \"alpha2\": \"ag\", \"alpha3\": \"atg\", \"case\": null}, {\"id\": 32, \"name\": \"Argentina\", \"alpha2\": \"ar\", \"alpha3\": \"arg\", \"case\": 2115.0}, {\"id\": 51, \"name\": \"Armenia\", \"alpha2\": \"am\", \"alpha3\": \"arm\", \"case\": null}, {\"id\": 36, \"name\": \"Australia\", \"alpha2\": \"au\", \"alpha3\": \"aus\", \"case\": 1252.0}, {\"id\": 40, \"name\": \"Austria\", \"alpha2\": \"at\", \"alpha3\": \"aut\", \"case\": null}, {\"id\": 31, \"name\": \"Azerbaijan\", \"alpha2\": \"az\", \"alpha3\": \"aze\", \"case\": null}, {\"id\": 44, \"name\": \"Bahamas\", \"alpha2\": \"bs\", \"alpha3\": \"bhs\", \"case\": null}, {\"id\": 48, \"name\": \"Bahrain\", \"alpha2\": \"bh\", \"alpha3\": \"bhr\", \"case\": null}, {\"id\": 50, \"name\": \"Bangladesh\", \"alpha2\": \"bd\", \"alpha3\": \"bgd\", \"case\": null}, {\"id\": 52, \"name\": \"Barbados\", \"alpha2\": \"bb\", \"alpha3\": \"brb\", \"case\": null}, {\"id\": 112, \"name\": \"Belarus\", \"alpha2\": \"by\", \"alpha3\": \"blr\", \"case\": null}, {\"id\": 56, \"name\": \"Belgium\", \"alpha2\": \"be\", \"alpha3\": \"bel\", \"case\": null}, {\"id\": 84, \"name\": \"Belize\", \"alpha2\": \"bz\", \"alpha3\": \"blz\", \"case\": null}, {\"id\": 204, \"name\": \"Benin\", \"alpha2\": \"bj\", \"alpha3\": \"ben\", \"case\": null}, {\"id\": 64, \"name\": \"Bhutan\", \"alpha2\": \"bt\", \"alpha3\": \"btn\", \"case\": null}, {\"id\": 68, \"name\": \"Bolivia (Plurinational State of)\", \"alpha2\": \"bo\", \"alpha3\": \"bol\", \"case\": null}, {\"id\": 70, \"name\": \"Bosnia and Herzegovina\", \"alpha2\": \"ba\", \"alpha3\": \"bih\", \"case\": null}, {\"id\": 72, \"name\": \"Botswana\", \"alpha2\": \"bw\", \"alpha3\": \"bwa\", \"case\": null}, {\"id\": 76, \"name\": \"Brazil\", \"alpha2\": \"br\", \"alpha3\": \"bra\", \"case\": null}, {\"id\": 96, \"name\": \"Brunei Darussalam\", \"alpha2\": \"bn\", \"alpha3\": \"brn\", \"case\": null}, {\"id\": 100, \"name\": \"Bulgaria\", \"alpha2\": \"bg\", \"alpha3\": \"bgr\", \"case\": null}, {\"id\": 854, \"name\": \"Burkina Faso\", \"alpha2\": \"bf\", \"alpha3\": \"bfa\", \"case\": null}, {\"id\": 108, \"name\": \"Burundi\", \"alpha2\": \"bi\", \"alpha3\": \"bdi\", \"case\": null}, {\"id\": 132, \"name\": \"Cabo Verde\", \"alpha2\": \"cv\", \"alpha3\": \"cpv\", \"case\": null}, {\"id\": 116, \"name\": \"Cambodia\", \"alpha2\": \"kh\", \"alpha3\": \"khm\", \"case\": null}, {\"id\": 120, \"name\": \"Cameroon\", \"alpha2\": \"cm\", \"alpha3\": \"cmr\", \"case\": null}, {\"id\": 124, \"name\": \"Canada\", \"alpha2\": \"ca\", \"alpha3\": \"can\", \"case\": 3978.0}, {\"id\": 140, \"name\": \"Central African Republic\", \"alpha2\": \"cf\", \"alpha3\": \"caf\", \"case\": null}, {\"id\": 148, \"name\": \"Chad\", \"alpha2\": \"td\", \"alpha3\": \"tcd\", \"case\": null}, {\"id\": 152, \"name\": \"Chile\", \"alpha2\": \"cl\", \"alpha3\": \"chl\", \"case\": null}, {\"id\": 156, \"name\": \"China\", \"alpha2\": \"cn\", \"alpha3\": \"chn\", \"case\": 44166.0}, {\"id\": 170, \"name\": \"Colombia\", \"alpha2\": \"co\", \"alpha3\": \"col\", \"case\": 786.0}, {\"id\": 174, \"name\": \"Comoros\", \"alpha2\": \"km\", \"alpha3\": \"com\", \"case\": null}, {\"id\": 178, \"name\": \"Congo\", \"alpha2\": \"cg\", \"alpha3\": \"cog\", \"case\": null}, {\"id\": 180, \"name\": \"Congo, Democratic Republic of the\", \"alpha2\": \"cd\", \"alpha3\": \"cod\", \"case\": null}, {\"id\": 188, \"name\": \"Costa Rica\", \"alpha2\": \"cr\", \"alpha3\": \"cri\", \"case\": null}, {\"id\": 384, \"name\": \"C\\u00f4te d'Ivoire\", \"alpha2\": \"ci\", \"alpha3\": \"civ\", \"case\": null}, {\"id\": 191, \"name\": \"Croatia\", \"alpha2\": \"hr\", \"alpha3\": \"hrv\", \"case\": null}, {\"id\": 192, \"name\": \"Cuba\", \"alpha2\": \"cu\", \"alpha3\": \"cub\", \"case\": null}, {\"id\": 196, \"name\": \"Cyprus\", \"alpha2\": \"cy\", \"alpha3\": \"cyp\", \"case\": null}, {\"id\": 203, \"name\": \"Czechia\", \"alpha2\": \"cz\", \"alpha3\": \"cze\", \"case\": null}, {\"id\": 208, \"name\": \"Denmark\", \"alpha2\": \"dk\", \"alpha3\": \"dnk\", \"case\": null}, {\"id\": 262, \"name\": \"Djibouti\", \"alpha2\": \"dj\", \"alpha3\": \"dji\", \"case\": null}, {\"id\": 212, \"name\": \"Dominica\", \"alpha2\": \"dm\", \"alpha3\": \"dma\", \"case\": null}, {\"id\": 214, \"name\": \"Dominican Republic\", \"alpha2\": \"do\", \"alpha3\": \"dom\", \"case\": null}, {\"id\": 218, \"name\": \"Ecuador\", \"alpha2\": \"ec\", \"alpha3\": \"ecu\", \"case\": null}, {\"id\": 818, \"name\": \"Egypt\", \"alpha2\": \"eg\", \"alpha3\": \"egy\", \"case\": 3028.0}, {\"id\": 222, \"name\": \"El Salvador\", \"alpha2\": \"sv\", \"alpha3\": \"slv\", \"case\": null}, {\"id\": 226, \"name\": \"Equatorial Guinea\", \"alpha2\": \"gq\", \"alpha3\": \"gnq\", \"case\": null}, {\"id\": 232, \"name\": \"Eritrea\", \"alpha2\": \"er\", \"alpha3\": \"eri\", \"case\": null}, {\"id\": 233, \"name\": \"Estonia\", \"alpha2\": \"ee\", \"alpha3\": \"est\", \"case\": null}, {\"id\": 748, \"name\": \"Eswatini\", \"alpha2\": \"sz\", \"alpha3\": \"swz\", \"case\": null}, {\"id\": 231, \"name\": \"Ethiopia\", \"alpha2\": \"et\", \"alpha3\": \"eth\", \"case\": null}, {\"id\": 242, \"name\": \"Fiji\", \"alpha2\": \"fj\", \"alpha3\": \"fji\", \"case\": null}, {\"id\": 246, \"name\": \"Finland\", \"alpha2\": \"fi\", \"alpha3\": \"fin\", \"case\": null}, {\"id\": 250, \"name\": \"France\", \"alpha2\": \"fr\", \"alpha3\": \"fra\", \"case\": null}, {\"id\": 266, \"name\": \"Gabon\", \"alpha2\": \"ga\", \"alpha3\": \"gab\", \"case\": null}, {\"id\": 270, \"name\": \"Gambia\", \"alpha2\": \"gm\", \"alpha3\": \"gmb\", \"case\": null}, {\"id\": 268, \"name\": \"Georgia\", \"alpha2\": \"ge\", \"alpha3\": \"geo\", \"case\": null}, {\"id\": 276, \"name\": \"Germany\", \"alpha2\": \"de\", \"alpha3\": \"deu\", \"case\": 189.0}, {\"id\": 288, \"name\": \"Ghana\", \"alpha2\": \"gh\", \"alpha3\": \"gha\", \"case\": null}, {\"id\": 300, \"name\": \"Greece\", \"alpha2\": \"gr\", \"alpha3\": \"grc\", \"case\": null}, {\"id\": 308, \"name\": \"Grenada\", \"alpha2\": \"gd\", \"alpha3\": \"grd\", \"case\": null}, {\"id\": 320, \"name\": \"Guatemala\", \"alpha2\": \"gt\", \"alpha3\": \"gtm\", \"case\": null}, {\"id\": 324, \"name\": \"Guinea\", \"alpha2\": \"gn\", \"alpha3\": \"gin\", \"case\": null}, {\"id\": 624, \"name\": \"Guinea-Bissau\", \"alpha2\": \"gw\", \"alpha3\": \"gnb\", \"case\": null}, {\"id\": 328, \"name\": \"Guyana\", \"alpha2\": \"gy\", \"alpha3\": \"guy\", \"case\": null}, {\"id\": 332, \"name\": \"Haiti\", \"alpha2\": \"ht\", \"alpha3\": \"hti\", \"case\": null}, {\"id\": 340, \"name\": \"Honduras\", \"alpha2\": \"hn\", \"alpha3\": \"hnd\", \"case\": null}, {\"id\": 348, \"name\": \"Hungary\", \"alpha2\": \"hu\", \"alpha3\": \"hun\", \"case\": null}, {\"id\": 352, \"name\": \"Iceland\", \"alpha2\": \"is\", \"alpha3\": \"isl\", \"case\": null}, {\"id\": 356, \"name\": \"India\", \"alpha2\": \"in\", \"alpha3\": \"ind\", \"case\": null}, {\"id\": 360, \"name\": \"Indonesia\", \"alpha2\": \"id\", \"alpha3\": \"idn\", \"case\": null}, {\"id\": 364, \"name\": \"Iran (Islamic Republic of)\", \"alpha2\": \"ir\", \"alpha3\": \"irn\", \"case\": null}, {\"id\": 368, \"name\": \"Iraq\", \"alpha2\": \"iq\", \"alpha3\": \"irq\", \"case\": null}, {\"id\": 372, \"name\": \"Ireland\", \"alpha2\": \"ie\", \"alpha3\": \"irl\", \"case\": 661.0}, {\"id\": 376, \"name\": \"Israel\", \"alpha2\": \"il\", \"alpha3\": \"isr\", \"case\": null}, {\"id\": 380, \"name\": \"Italy\", \"alpha2\": \"it\", \"alpha3\": \"ita\", \"case\": null}, {\"id\": 388, \"name\": \"Jamaica\", \"alpha2\": \"jm\", \"alpha3\": \"jam\", \"case\": null}, {\"id\": 392, \"name\": \"Japan\", \"alpha2\": \"jp\", \"alpha3\": \"jpn\", \"case\": null}, {\"id\": 400, \"name\": \"Jordan\", \"alpha2\": \"jo\", \"alpha3\": \"jor\", \"case\": null}, {\"id\": 398, \"name\": \"Kazakhstan\", \"alpha2\": \"kz\", \"alpha3\": \"kaz\", \"case\": null}, {\"id\": 404, \"name\": \"Kenya\", \"alpha2\": \"ke\", \"alpha3\": \"ken\", \"case\": null}, {\"id\": 296, \"name\": \"Kiribati\", \"alpha2\": \"ki\", \"alpha3\": \"kir\", \"case\": null}, {\"id\": 408, \"name\": \"Korea (Democratic People's Republic of)\", \"alpha2\": \"kp\", \"alpha3\": \"prk\", \"case\": null}, {\"id\": 410, \"name\": \"Korea, Republic of\", \"alpha2\": \"kr\", \"alpha3\": \"kor\", \"case\": null}, {\"id\": 414, \"name\": \"Kuwait\", \"alpha2\": \"kw\", \"alpha3\": \"kwt\", \"case\": null}, {\"id\": 417, \"name\": \"Kyrgyzstan\", \"alpha2\": \"kg\", \"alpha3\": \"kgz\", \"case\": null}, {\"id\": 418, \"name\": \"Lao People's Democratic Republic\", \"alpha2\": \"la\", \"alpha3\": \"lao\", \"case\": null}, {\"id\": 428, \"name\": \"Latvia\", \"alpha2\": \"lv\", \"alpha3\": \"lva\", \"case\": null}, {\"id\": 422, \"name\": \"Lebanon\", \"alpha2\": \"lb\", \"alpha3\": \"lbn\", \"case\": null}, {\"id\": 426, \"name\": \"Lesotho\", \"alpha2\": \"ls\", \"alpha3\": \"lso\", \"case\": null}, {\"id\": 430, \"name\": \"Liberia\", \"alpha2\": \"lr\", \"alpha3\": \"lbr\", \"case\": null}, {\"id\": 434, \"name\": \"Libya\", \"alpha2\": \"ly\", \"alpha3\": \"lby\", \"case\": null}, {\"id\": 438, \"name\": \"Liechtenstein\", \"alpha2\": \"li\", \"alpha3\": \"lie\", \"case\": null}, {\"id\": 440, \"name\": \"Lithuania\", \"alpha2\": \"lt\", \"alpha3\": \"ltu\", \"case\": null}, {\"id\": 442, \"name\": \"Luxembourg\", \"alpha2\": \"lu\", \"alpha3\": \"lux\", \"case\": null}, {\"id\": 450, \"name\": \"Madagascar\", \"alpha2\": \"mg\", \"alpha3\": \"mdg\", \"case\": null}, {\"id\": 454, \"name\": \"Malawi\", \"alpha2\": \"mw\", \"alpha3\": \"mwi\", \"case\": null}, {\"id\": 458, \"name\": \"Malaysia\", \"alpha2\": \"my\", \"alpha3\": \"mys\", \"case\": null}, {\"id\": 462, \"name\": \"Maldives\", \"alpha2\": \"mv\", \"alpha3\": \"mdv\", \"case\": null}, {\"id\": 466, \"name\": \"Mali\", \"alpha2\": \"ml\", \"alpha3\": \"mli\", \"case\": null}, {\"id\": 470, \"name\": \"Malta\", \"alpha2\": \"mt\", \"alpha3\": \"mlt\", \"case\": null}, {\"id\": 584, \"name\": \"Marshall Islands\", \"alpha2\": \"mh\", \"alpha3\": \"mhl\", \"case\": null}, {\"id\": 478, \"name\": \"Mauritania\", \"alpha2\": \"mr\", \"alpha3\": \"mrt\", \"case\": null}, {\"id\": 480, \"name\": \"Mauritius\", \"alpha2\": \"mu\", \"alpha3\": \"mus\", \"case\": null}, {\"id\": 484, \"name\": \"Mexico\", \"alpha2\": \"mx\", \"alpha3\": \"mex\", \"case\": null}, {\"id\": 583, \"name\": \"Micronesia (Federated States of)\", \"alpha2\": \"fm\", \"alpha3\": \"fsm\", \"case\": null}, {\"id\": 498, \"name\": \"Moldova, Republic of\", \"alpha2\": \"md\", \"alpha3\": \"mda\", \"case\": null}, {\"id\": 492, \"name\": \"Monaco\", \"alpha2\": \"mc\", \"alpha3\": \"mco\", \"case\": null}, {\"id\": 496, \"name\": \"Mongolia\", \"alpha2\": \"mn\", \"alpha3\": \"mng\", \"case\": null}, {\"id\": 499, \"name\": \"Montenegro\", \"alpha2\": \"me\", \"alpha3\": \"mne\", \"case\": null}, {\"id\": 504, \"name\": \"Morocco\", \"alpha2\": \"ma\", \"alpha3\": \"mar\", \"case\": null}, {\"id\": 508, \"name\": \"Mozambique\", \"alpha2\": \"mz\", \"alpha3\": \"moz\", \"case\": null}, {\"id\": 104, \"name\": \"Myanmar\", \"alpha2\": \"mm\", \"alpha3\": \"mmr\", \"case\": null}, {\"id\": 516, \"name\": \"Namibia\", \"alpha2\": \"na\", \"alpha3\": \"nam\", \"case\": null}, {\"id\": 520, \"name\": \"Nauru\", \"alpha2\": \"nr\", \"alpha3\": \"nru\", \"case\": null}, {\"id\": 524, \"name\": \"Nepal\", \"alpha2\": \"np\", \"alpha3\": \"npl\", \"case\": null}, {\"id\": 528, \"name\": \"Netherlands\", \"alpha2\": \"nl\", \"alpha3\": \"nld\", \"case\": null}, {\"id\": 554, \"name\": \"New Zealand\", \"alpha2\": \"nz\", \"alpha3\": \"nzl\", \"case\": null}, {\"id\": 558, \"name\": \"Nicaragua\", \"alpha2\": \"ni\", \"alpha3\": \"nic\", \"case\": null}, {\"id\": 562, \"name\": \"Niger\", \"alpha2\": \"ne\", \"alpha3\": \"ner\", \"case\": null}, {\"id\": 566, \"name\": \"Nigeria\", \"alpha2\": \"ng\", \"alpha3\": \"nga\", \"case\": null}, {\"id\": 807, \"name\": \"North Macedonia\", \"alpha2\": \"mk\", \"alpha3\": \"mkd\", \"case\": null}, {\"id\": 578, \"name\": \"Norway\", \"alpha2\": \"no\", \"alpha3\": \"nor\", \"case\": null}, {\"id\": 512, \"name\": \"Oman\", \"alpha2\": \"om\", \"alpha3\": \"omn\", \"case\": null}, {\"id\": 586, \"name\": \"Pakistan\", \"alpha2\": \"pk\", \"alpha3\": \"pak\", \"case\": null}, {\"id\": 585, \"name\": \"Palau\", \"alpha2\": \"pw\", \"alpha3\": \"plw\", \"case\": null}, {\"id\": 591, \"name\": \"Panama\", \"alpha2\": \"pa\", \"alpha3\": \"pan\", \"case\": null}, {\"id\": 598, \"name\": \"Papua New Guinea\", \"alpha2\": \"pg\", \"alpha3\": \"png\", \"case\": null}, {\"id\": 600, \"name\": \"Paraguay\", \"alpha2\": \"py\", \"alpha3\": \"pry\", \"case\": null}, {\"id\": 604, \"name\": \"Peru\", \"alpha2\": \"pe\", \"alpha3\": \"per\", \"case\": null}, {\"id\": 608, \"name\": \"Philippines\", \"alpha2\": \"ph\", \"alpha3\": \"phl\", \"case\": null}, {\"id\": 616, \"name\": \"Poland\", \"alpha2\": \"pl\", \"alpha3\": \"pol\", \"case\": null}, {\"id\": 620, \"name\": \"Portugal\", \"alpha2\": \"pt\", \"alpha3\": \"prt\", \"case\": null}, {\"id\": 634, \"name\": \"Qatar\", \"alpha2\": \"qa\", \"alpha3\": \"qat\", \"case\": null}, {\"id\": 642, \"name\": \"Romania\", \"alpha2\": \"ro\", \"alpha3\": \"rou\", \"case\": null}, {\"id\": 643, \"name\": \"Russian Federation\", \"alpha2\": \"ru\", \"alpha3\": \"rus\", \"case\": null}, {\"id\": 646, \"name\": \"Rwanda\", \"alpha2\": \"rw\", \"alpha3\": \"rwa\", \"case\": null}, {\"id\": 659, \"name\": \"Saint Kitts and Nevis\", \"alpha2\": \"kn\", \"alpha3\": \"kna\", \"case\": null}, {\"id\": 662, \"name\": \"Saint Lucia\", \"alpha2\": \"lc\", \"alpha3\": \"lca\", \"case\": null}, {\"id\": 670, \"name\": \"Saint Vincent and the Grenadines\", \"alpha2\": \"vc\", \"alpha3\": \"vct\", \"case\": null}, {\"id\": 882, \"name\": \"Samoa\", \"alpha2\": \"ws\", \"alpha3\": \"wsm\", \"case\": null}, {\"id\": 674, \"name\": \"San Marino\", \"alpha2\": \"sm\", \"alpha3\": \"smr\", \"case\": null}, {\"id\": 678, \"name\": \"Sao Tome and Principe\", \"alpha2\": \"st\", \"alpha3\": \"stp\", \"case\": null}, {\"id\": 682, \"name\": \"Saudi Arabia\", \"alpha2\": \"sa\", \"alpha3\": \"sau\", \"case\": null}, {\"id\": 686, \"name\": \"Senegal\", \"alpha2\": \"sn\", \"alpha3\": \"sen\", \"case\": null}, {\"id\": 688, \"name\": \"Serbia\", \"alpha2\": \"rs\", \"alpha3\": \"srb\", \"case\": null}, {\"id\": 690, \"name\": \"Seychelles\", \"alpha2\": \"sc\", \"alpha3\": \"syc\", \"case\": null}, {\"id\": 694, \"name\": \"Sierra Leone\", \"alpha2\": \"sl\", \"alpha3\": \"sle\", \"case\": null}, {\"id\": 702, \"name\": \"Singapore\", \"alpha2\": \"sg\", \"alpha3\": \"sgp\", \"case\": null}, {\"id\": 703, \"name\": \"Slovakia\", \"alpha2\": \"sk\", \"alpha3\": \"svk\", \"case\": null}, {\"id\": 705, \"name\": \"Slovenia\", \"alpha2\": \"si\", \"alpha3\": \"svn\", \"case\": null}, {\"id\": 90, \"name\": \"Solomon Islands\", \"alpha2\": \"sb\", \"alpha3\": \"slb\", \"case\": null}, {\"id\": 706, \"name\": \"Somalia\", \"alpha2\": \"so\", \"alpha3\": \"som\", \"case\": null}, {\"id\": 710, \"name\": \"South Africa\", \"alpha2\": \"za\", \"alpha3\": \"zaf\", \"case\": 1333.0}, {\"id\": 728, \"name\": \"South Sudan\", \"alpha2\": \"ss\", \"alpha3\": \"ssd\", \"case\": null}, {\"id\": 724, \"name\": \"Spain\", \"alpha2\": \"es\", \"alpha3\": \"esp\", \"case\": null}, {\"id\": 144, \"name\": \"Sri Lanka\", \"alpha2\": \"lk\", \"alpha3\": \"lka\", \"case\": null}, {\"id\": 729, \"name\": \"Sudan\", \"alpha2\": \"sd\", \"alpha3\": \"sdn\", \"case\": null}, {\"id\": 740, \"name\": \"Suriname\", \"alpha2\": \"sr\", \"alpha3\": \"sur\", \"case\": null}, {\"id\": 752, \"name\": \"Sweden\", \"alpha2\": \"se\", \"alpha3\": \"swe\", \"case\": null}, {\"id\": 756, \"name\": \"Switzerland\", \"alpha2\": \"ch\", \"alpha3\": \"che\", \"case\": null}, {\"id\": 760, \"name\": \"Syrian Arab Republic\", \"alpha2\": \"sy\", \"alpha3\": \"syr\", \"case\": null}, {\"id\": 762, \"name\": \"Tajikistan\", \"alpha2\": \"tj\", \"alpha3\": \"tjk\", \"case\": null}, {\"id\": 834, \"name\": \"Tanzania, United Republic of\", \"alpha2\": \"tz\", \"alpha3\": \"tza\", \"case\": null}, {\"id\": 764, \"name\": \"Thailand\", \"alpha2\": \"th\", \"alpha3\": \"tha\", \"case\": null}, {\"id\": 626, \"name\": \"Timor-Leste\", \"alpha2\": \"tl\", \"alpha3\": \"tls\", \"case\": null}, {\"id\": 768, \"name\": \"Togo\", \"alpha2\": \"tg\", \"alpha3\": \"tgo\", \"case\": null}, {\"id\": 776, \"name\": \"Tonga\", \"alpha2\": \"to\", \"alpha3\": \"ton\", \"case\": null}, {\"id\": 780, \"name\": \"Trinidad and Tobago\", \"alpha2\": \"tt\", \"alpha3\": \"tto\", \"case\": null}, {\"id\": 788, \"name\": \"Tunisia\", \"alpha2\": \"tn\", \"alpha3\": \"tun\", \"case\": null}, {\"id\": 792, \"name\": \"Turkey\", \"alpha2\": \"tr\", \"alpha3\": \"tur\", \"case\": null}, {\"id\": 795, \"name\": \"Turkmenistan\", \"alpha2\": \"tm\", \"alpha3\": \"tkm\", \"case\": null}, {\"id\": 798, \"name\": \"Tuvalu\", \"alpha2\": \"tv\", \"alpha3\": \"tuv\", \"case\": null}, {\"id\": 800, \"name\": \"Uganda\", \"alpha2\": \"ug\", \"alpha3\": \"uga\", \"case\": null}, {\"id\": 804, \"name\": \"Ukraine\", \"alpha2\": \"ua\", \"alpha3\": \"ukr\", \"case\": null}, {\"id\": 784, \"name\": \"United Arab Emirates\", \"alpha2\": \"ae\", \"alpha3\": \"are\", \"case\": null}, {\"id\": 826, \"name\": \"United Kingdom of Great Britain and Northern Ireland\", \"alpha2\": \"gb\", \"alpha3\": \"gbr\", \"case\": null}, {\"id\": 840, \"name\": \"USA\", \"alpha2\": \"us\", \"alpha3\": \"usa\", \"case\": 15253.0}, {\"id\": 858, \"name\": \"Uruguay\", \"alpha2\": \"uy\", \"alpha3\": \"ury\", \"case\": null}, {\"id\": 860, \"name\": \"Uzbekistan\", \"alpha2\": \"uz\", \"alpha3\": \"uzb\", \"case\": null}, {\"id\": 548, \"name\": \"Vanuatu\", \"alpha2\": \"vu\", \"alpha3\": \"vut\", \"case\": null}, {\"id\": 862, \"name\": \"Venezuela (Bolivarian Republic of)\", \"alpha2\": \"ve\", \"alpha3\": \"ven\", \"case\": null}, {\"id\": 704, \"name\": \"Viet Nam\", \"alpha2\": \"vn\", \"alpha3\": \"vnm\", \"case\": null}, {\"id\": 887, \"name\": \"Yemen\", \"alpha2\": \"ye\", \"alpha3\": \"yem\", \"case\": null}, {\"id\": 894, \"name\": \"Zambia\", \"alpha2\": \"zm\", \"alpha3\": \"zmb\", \"case\": null}, {\"id\": 716, \"name\": \"Zimbabwe\", \"alpha2\": \"zw\", \"alpha3\": \"zwe\", \"case\": null}]}}, {\"mode\": \"vega-lite\"});\n",
       "</script>"
      ],
      "text/plain": [
       "alt.LayerChart(...)"
      ]
     },
     "execution_count": 7,
     "metadata": {},
     "output_type": "execute_result"
    }
   ],
   "source": [
    "base+colored"
   ]
  }
 ],
 "metadata": {
  "kernelspec": {
   "display_name": "Python 3",
   "language": "python",
   "name": "python3"
  },
  "language_info": {
   "codemirror_mode": {
    "name": "ipython",
    "version": 3
   },
   "file_extension": ".py",
   "mimetype": "text/x-python",
   "name": "python",
   "nbconvert_exporter": "python",
   "pygments_lexer": "ipython3",
   "version": "3.7.4"
  }
 },
 "nbformat": 4,
 "nbformat_minor": 2
}
